{
 "cells": [
  {
   "cell_type": "code",
   "execution_count": 2,
   "metadata": {},
   "outputs": [
    {
     "name": "stdout",
     "output_type": "stream",
     "text": [
      "Value of x is  16\n"
     ]
    }
   ],
   "source": [
    "#Python allows us to define functions within functions\n",
    "\n",
    "x = 7\n",
    "\n",
    "def f():\n",
    "    def g(a):\n",
    "        return a+1\n",
    "    \n",
    "    def h(a):\n",
    "        return a-1\n",
    "    \n",
    "    global x\n",
    "    y = x\n",
    "    x = g(y) + g(y)\n",
    "    \n",
    "    return\n",
    "\n",
    "f()\n",
    "print('Value of x is ',x)"
   ]
  }
 ],
 "metadata": {
  "kernelspec": {
   "display_name": "Python 3",
   "language": "python",
   "name": "python3"
  },
  "language_info": {
   "codemirror_mode": {
    "name": "ipython",
    "version": 3
   },
   "file_extension": ".py",
   "mimetype": "text/x-python",
   "name": "python",
   "nbconvert_exporter": "python",
   "pygments_lexer": "ipython3",
   "version": "3.6.5"
  }
 },
 "nbformat": 4,
 "nbformat_minor": 2
}
