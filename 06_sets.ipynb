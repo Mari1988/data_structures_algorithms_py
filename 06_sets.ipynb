{
 "cells": [
  {
   "cell_type": "markdown",
   "metadata": {},
   "source": [
    "## Sets in Python\n",
    "\n",
    "    * Sets is one of the datatypes of Python"
   ]
  },
  {
   "cell_type": "code",
   "execution_count": 4,
   "metadata": {},
   "outputs": [],
   "source": [
    "import logging"
   ]
  },
  {
   "cell_type": "code",
   "execution_count": 2,
   "metadata": {},
   "outputs": [
    {
     "data": {
      "text/plain": [
       "set"
      ]
     },
     "execution_count": 2,
     "metadata": {},
     "output_type": "execute_result"
    }
   ],
   "source": [
    "#create a empty set\n",
    "s1 = set()\n",
    "\n",
    "s1.__class__"
   ]
  },
  {
   "cell_type": "code",
   "execution_count": 9,
   "metadata": {},
   "outputs": [
    {
     "name": "stdout",
     "output_type": "stream",
     "text": [
      "{'one', 'three', 'two'}\n",
      "Note that sets can\"t have duplicates\n"
     ]
    }
   ],
   "source": [
    "#assign elements\n",
    "s1 = set()\n",
    "s1 = {'one','two','three','one'}\n",
    "print(s1)\n",
    "\n",
    "print('Note that sets can\"t have duplicates')"
   ]
  },
  {
   "cell_type": "code",
   "execution_count": 10,
   "metadata": {},
   "outputs": [
    {
     "data": {
      "text/plain": [
       "True"
      ]
     },
     "execution_count": 10,
     "metadata": {},
     "output_type": "execute_result"
    }
   ],
   "source": [
    "#membership\n",
    "'one' in s1"
   ]
  },
  {
   "cell_type": "code",
   "execution_count": 12,
   "metadata": {},
   "outputs": [
    {
     "name": "stdout",
     "output_type": "stream",
     "text": [
      "{1, 2, 3, 4}\n",
      "Order of insertion is different from the order of storage\n",
      "So don\"t assume any order\n"
     ]
    }
   ],
   "source": [
    "#convert list to set\n",
    "\n",
    "l1 = [1,3,4,2,1]\n",
    "s1 = set(l1)\n",
    "\n",
    "print(s1)\n",
    "print('Order of insertion is different from the order of storage')\n",
    "print('So don\"t assume any order')"
   ]
  },
  {
   "cell_type": "markdown",
   "metadata": {},
   "source": [
    "## set operations"
   ]
  },
  {
   "cell_type": "code",
   "execution_count": 16,
   "metadata": {},
   "outputs": [
    {
     "name": "stdout",
     "output_type": "stream",
     "text": [
      "{1, 2, 3, 5, 7, 9, 11}\n",
      "{11, 3, 5, 7}\n",
      "{1, 9}\n"
     ]
    },
    {
     "data": {
      "text/plain": [
       "{1, 2, 9}"
      ]
     },
     "execution_count": 16,
     "metadata": {},
     "output_type": "execute_result"
    }
   ],
   "source": [
    "odd = set([1,3,5,7,9,11])\n",
    "prime = set([2,3,5,7,11])\n",
    "\n",
    "#union\n",
    "s_union = odd | prime\n",
    "print(s_union)\n",
    "\n",
    "#intersection\n",
    "s_intersec = odd & prime\n",
    "print(s_intersec)\n",
    "\n",
    "#difference\n",
    "s_diff = odd - prime\n",
    "print(s_diff)\n",
    "\n",
    "#exclusive-or\n",
    "odd ^ prime"
   ]
  }
 ],
 "metadata": {
  "kernelspec": {
   "display_name": "Python 3",
   "language": "python",
   "name": "python3"
  },
  "language_info": {
   "codemirror_mode": {
    "name": "ipython",
    "version": 3
   },
   "file_extension": ".py",
   "mimetype": "text/x-python",
   "name": "python",
   "nbconvert_exporter": "python",
   "pygments_lexer": "ipython3",
   "version": "3.6.5"
  }
 },
 "nbformat": 4,
 "nbformat_minor": 2
}
