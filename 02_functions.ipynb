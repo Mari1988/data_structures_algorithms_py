{
 "cells": [
  {
   "cell_type": "code",
   "execution_count": 8,
   "metadata": {},
   "outputs": [],
   "source": [
    "import logging\n",
    "logging.getLogger().setLevel(logging.INFO)"
   ]
  },
  {
   "cell_type": "code",
   "execution_count": 13,
   "metadata": {},
   "outputs": [],
   "source": [
    "def update(l,i,v):\n",
    "    if i>=0 and i<len(l):\n",
    "        l[i]=v\n",
    "        return(True)\n",
    "    else:\n",
    "        v=v+1 #just to check for ourself that if the value of v has changed\n",
    "        return(False)"
   ]
  },
  {
   "cell_type": "code",
   "execution_count": 11,
   "metadata": {},
   "outputs": [
    {
     "name": "stderr",
     "output_type": "stream",
     "text": [
      "INFO:root:note that value of list has changed even though it was not returned\n",
      "INFO:root:note that 'List' is mutable\n"
     ]
    },
    {
     "name": "stdout",
     "output_type": "stream",
     "text": [
      "update status  True\n",
      "value of list is  [1, 2, 3, 999]\n"
     ]
    }
   ],
   "source": [
    "l=[1,2,3,4]\n",
    "v=999\n",
    "i=3\n",
    "res = update(l,i,v)\n",
    "\n",
    "print('update status ',res)\n",
    "print('value of list is ',l)\n",
    "logging.info('note that value of list has changed even though it was not returned')\n",
    "logging.info(\"note that 'List' is mutable\")"
   ]
  },
  {
   "cell_type": "code",
   "execution_count": 15,
   "metadata": {},
   "outputs": [
    {
     "name": "stderr",
     "output_type": "stream",
     "text": [
      "INFO:root:note that 'Int' is not mutable - so it creates a new copy and works within the scope of function\n"
     ]
    },
    {
     "name": "stdout",
     "output_type": "stream",
     "text": [
      "update status  False\n",
      "value of list is  [1, 2, 3, 4]\n",
      "value of i is  5\n"
     ]
    }
   ],
   "source": [
    "l=[1,2,3,4]\n",
    "v=999\n",
    "i=5\n",
    "res = update(l,i,v)\n",
    "\n",
    "print('update status ',res)\n",
    "print('value of list is ',l)\n",
    "print('value of i is ',i)\n",
    "logging.info(\"note that 'Int' is not mutable - so it creates a new copy and works within the scope of function\")"
   ]
  },
  {
   "cell_type": "code",
   "execution_count": 16,
   "metadata": {},
   "outputs": [
    {
     "name": "stderr",
     "output_type": "stream",
     "text": [
      "INFO:root:There is no obligation for the function to have a return statement\n"
     ]
    }
   ],
   "source": [
    "'''\n",
    "Note function can have no return statment also\n",
    "'''\n",
    "logging.info('There is no obligation for the function to have a return statement')"
   ]
  },
  {
   "cell_type": "code",
   "execution_count": 17,
   "metadata": {},
   "outputs": [
    {
     "data": {
      "text/plain": [
       "\"\\nA function must be defined before it's invoked\\n\""
      ]
     },
     "execution_count": 17,
     "metadata": {},
     "output_type": "execute_result"
    }
   ],
   "source": [
    "'''\n",
    "A function must be defined before it's invoked\n",
    "'''"
   ]
  },
  {
   "cell_type": "code",
   "execution_count": 20,
   "metadata": {},
   "outputs": [],
   "source": [
    "'''\n",
    "Recusive functions\n",
    "'''\n",
    "def factorial(n):\n",
    "    if n==0:\n",
    "        return 1\n",
    "    else:\n",
    "        out = n*factorial(n-1)\n",
    "        return out"
   ]
  },
  {
   "cell_type": "code",
   "execution_count": 22,
   "metadata": {},
   "outputs": [
    {
     "data": {
      "text/plain": [
       "24"
      ]
     },
     "execution_count": 22,
     "metadata": {},
     "output_type": "execute_result"
    }
   ],
   "source": [
    "factorial(4)"
   ]
  },
  {
   "cell_type": "code",
   "execution_count": 38,
   "metadata": {},
   "outputs": [],
   "source": [
    "'''\n",
    "Check if a number is a prime number\n",
    "'''\n",
    "def isprime(n):\n",
    "    if n==1:\n",
    "        print(\"{} is not a prime number\".format(n)) #boundary condition\n",
    "        return(0)\n",
    "    for i in range(2,n):\n",
    "        if n % i ==0:\n",
    "            print(\"{} is not a prime number\".format(n))\n",
    "            return(0)\n",
    "    print(\"{} is a prime number\".format(n))"
   ]
  },
  {
   "cell_type": "code",
   "execution_count": 39,
   "metadata": {},
   "outputs": [
    {
     "name": "stdout",
     "output_type": "stream",
     "text": [
      "1 is not a prime number\n"
     ]
    },
    {
     "data": {
      "text/plain": [
       "0"
      ]
     },
     "execution_count": 39,
     "metadata": {},
     "output_type": "execute_result"
    }
   ],
   "source": [
    "isprime(1)"
   ]
  }
 ],
 "metadata": {
  "kernelspec": {
   "display_name": "Python 3",
   "language": "python",
   "name": "python3"
  },
  "language_info": {
   "codemirror_mode": {
    "name": "ipython",
    "version": 3
   },
   "file_extension": ".py",
   "mimetype": "text/x-python",
   "name": "python",
   "nbconvert_exporter": "python",
   "pygments_lexer": "ipython3",
   "version": "3.6.5"
  }
 },
 "nbformat": 4,
 "nbformat_minor": 2
}
