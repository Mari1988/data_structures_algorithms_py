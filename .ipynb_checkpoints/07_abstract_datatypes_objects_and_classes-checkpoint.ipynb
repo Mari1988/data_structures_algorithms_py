{
 "cells": [
  {
   "cell_type": "markdown",
   "metadata": {},
   "source": [
    "## data structures\n",
    "\n",
    "    * A data structure is basically an organization of information whose behavior is defined throughan interface.\n",
    "    * An interface is nothing but allowed set of operations, or instances for a stack the allowed set of operations are push and pop\n",
    "    "
   ]
  },
  {
   "cell_type": "markdown",
   "metadata": {},
   "source": [
    "### Classes\n",
    "\n",
    "    * Classes allows us to define data-structures which contains set of instructions about how the data is stored and has the list of public interfaces (set of allowed operations)\n",
    "    \n",
    "    * Class is a blueprint to define a datatype\n",
    "    \n",
    "    * An instance of a class is called as 'object'\n",
    "    \n",
    "    "
   ]
  }
 ],
 "metadata": {
  "kernelspec": {
   "display_name": "Python 3",
   "language": "python",
   "name": "python3"
  },
  "language_info": {
   "codemirror_mode": {
    "name": "ipython",
    "version": 3
   },
   "file_extension": ".py",
   "mimetype": "text/x-python",
   "name": "python",
   "nbconvert_exporter": "python",
   "pygments_lexer": "ipython3",
   "version": "3.6.5"
  }
 },
 "nbformat": 4,
 "nbformat_minor": 2
}
