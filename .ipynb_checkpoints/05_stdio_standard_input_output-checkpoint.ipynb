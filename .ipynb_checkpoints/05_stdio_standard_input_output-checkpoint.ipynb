{
 "cells": [
  {
   "cell_type": "code",
   "execution_count": 1,
   "metadata": {},
   "outputs": [
    {
     "name": "stdout",
     "output_type": "stream",
     "text": [
      "Type a number:10\n"
     ]
    }
   ],
   "source": [
    "#Reading from the keyboard\n",
    "\n",
    "#Read a line of input from the user\n",
    "\n",
    "userinput = input('Type a number:')"
   ]
  },
  {
   "cell_type": "code",
   "execution_count": 2,
   "metadata": {},
   "outputs": [
    {
     "name": "stdout",
     "output_type": "stream",
     "text": [
      "10\n"
     ]
    }
   ],
   "source": [
    "print(userinput)"
   ]
  },
  {
   "cell_type": "code",
   "execution_count": 4,
   "metadata": {},
   "outputs": [
    {
     "data": {
      "text/plain": [
       "str"
      ]
     },
     "execution_count": 4,
     "metadata": {},
     "output_type": "execute_result"
    }
   ],
   "source": [
    "#note that user input is always a string. Type cast to the required format\n",
    "userinput.__class__"
   ]
  },
  {
   "cell_type": "code",
   "execution_count": 5,
   "metadata": {},
   "outputs": [
    {
     "name": "stdout",
     "output_type": "stream",
     "text": [
      "Type a number: Mari\n",
      "Invalid input type. Type a number\n",
      "Type a number: a\n",
      "Invalid input type. Type a number\n",
      "Type a number: 1\n"
     ]
    }
   ],
   "source": [
    "#Adding exception handling to get valid input from the user\n",
    "\n",
    "while(True): #infinite loop\n",
    "    try:\n",
    "        userinput = input('Type a number: ')\n",
    "        userinput = int(userinput)\n",
    "    except ValueError:\n",
    "        print('Invalid input type. Type a number')\n",
    "    else: #breaks if the input is valid\n",
    "        break \n",
    "        "
   ]
  },
  {
   "cell_type": "code",
   "execution_count": 6,
   "metadata": {},
   "outputs": [
    {
     "name": "stdout",
     "output_type": "stream",
     "text": [
      "Value of the input is 1\n"
     ]
    }
   ],
   "source": [
    "#standard output\n",
    "print('Value of the input is',userinput)"
   ]
  }
 ],
 "metadata": {
  "kernelspec": {
   "display_name": "Python 3",
   "language": "python",
   "name": "python3"
  },
  "language_info": {
   "codemirror_mode": {
    "name": "ipython",
    "version": 3
   },
   "file_extension": ".py",
   "mimetype": "text/x-python",
   "name": "python",
   "nbconvert_exporter": "python",
   "pygments_lexer": "ipython3",
   "version": "3.6.5"
  }
 },
 "nbformat": 4,
 "nbformat_minor": 2
}
