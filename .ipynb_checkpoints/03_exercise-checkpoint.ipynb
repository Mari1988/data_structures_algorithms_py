{
 "cells": [
  {
   "cell_type": "code",
   "execution_count": 8,
   "metadata": {},
   "outputs": [],
   "source": [
    "def matrixflip(myl,d):\n",
    "  \n",
    "    l = []\n",
    "    \n",
    "    if d=='h':\n",
    "        #horizontal flip\n",
    "        for i in range(0,len(myl)):\n",
    "            for j in range(len(myl[0])-1,-1,-1):\n",
    "                l.append(myl[i][j])\n",
    "    elif d=='v':\n",
    "        #vertical flip\n",
    "        for i in range(len(myl)-1,-1,-1):\n",
    "            for j in range(0,len(myl[0])):\n",
    "                l.append(myl[i][j])\n",
    "    else:\n",
    "        l = myl\n",
    "\n",
    "    out_l = len(myl)*[0]\n",
    "    nc = int(len(l)/len(myl))\n",
    "    s1=0\n",
    "    s2=nc\n",
    "    for i in range(0,len(myl)):\n",
    "        out_l[i] = l[s1:s2]\n",
    "        s1 = s1+nc\n",
    "        s2 = s2 + nc\n",
    "    \n",
    "    return out_l"
   ]
  },
  {
   "cell_type": "code",
   "execution_count": 9,
   "metadata": {},
   "outputs": [
    {
     "name": "stdout",
     "output_type": "stream",
     "text": [
      "[[7, 8, 9], [4, 5, 6], [1, 2, 3]]\n",
      "[[1, 2, 3], [4, 5, 6], [7, 8, 9]]\n"
     ]
    }
   ],
   "source": [
    "myl = [[1,2,3],[4,5,6],[7,8,9]]\n",
    "print(matrixflip(myl,'v'))\n",
    "print(myl)"
   ]
  }
 ],
 "metadata": {
  "kernelspec": {
   "display_name": "Python 3",
   "language": "python",
   "name": "python3"
  },
  "language_info": {
   "codemirror_mode": {
    "name": "ipython",
    "version": 3
   },
   "file_extension": ".py",
   "mimetype": "text/x-python",
   "name": "python",
   "nbconvert_exporter": "python",
   "pygments_lexer": "ipython3",
   "version": "3.6.5"
  }
 },
 "nbformat": 4,
 "nbformat_minor": 2
}
