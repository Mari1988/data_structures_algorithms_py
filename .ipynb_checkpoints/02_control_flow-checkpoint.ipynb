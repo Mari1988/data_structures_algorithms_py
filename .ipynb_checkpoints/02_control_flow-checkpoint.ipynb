{
 "cells": [
  {
   "cell_type": "code",
   "execution_count": 42,
   "metadata": {},
   "outputs": [],
   "source": [
    "import logging\n",
    "logging.getLogger().setLevel(logging.INFO)"
   ]
  },
  {
   "cell_type": "markdown",
   "metadata": {
    "collapsed": true
   },
   "source": [
    "#### Control flow in Python can be categorized into \n",
    "1. Conditional executions (if block)\n",
    "2. Repeated executions (loops)\n",
    "3. functional executions"
   ]
  },
  {
   "cell_type": "code",
   "execution_count": 10,
   "metadata": {},
   "outputs": [
    {
     "data": {
      "text/plain": [
       "'\\nInteger 0, Empty string, Empty list is considered to be FALSE when checking for conditions\\n'"
      ]
     },
     "execution_count": 10,
     "metadata": {},
     "output_type": "execute_result"
    }
   ],
   "source": [
    "'''\n",
    "Integer 0, Empty string, Empty list are treated as FALSE when checking for conditions\n",
    "'''"
   ]
  },
  {
   "cell_type": "code",
   "execution_count": 14,
   "metadata": {},
   "outputs": [
    {
     "name": "stdout",
     "output_type": "stream",
     "text": [
      "I m here\n"
     ]
    }
   ],
   "source": [
    "'''\n",
    "Multiway branching using elif statment\n",
    "'''\n",
    "def f1(x):\n",
    "    return\n",
    "def f2(x):\n",
    "    return\n",
    "def f3(x):\n",
    "    return\n",
    "def f4(x):\n",
    "    return\n",
    "\n",
    "x=1\n",
    "if x==1:\n",
    "    print('I m here')\n",
    "    y=f1(x)\n",
    "elif x==2:\n",
    "    y=f2(x)\n",
    "elif x==3:\n",
    "    y=f3(x)\n",
    "else:\n",
    "    y=f4(x)"
   ]
  },
  {
   "cell_type": "code",
   "execution_count": 24,
   "metadata": {},
   "outputs": [
    {
     "name": "stdout",
     "output_type": "stream",
     "text": [
      "y is  24\n",
      "z is  10\n"
     ]
    }
   ],
   "source": [
    "'''\n",
    "Looping through the list\n",
    "'''\n",
    "(y,z) = (1,0)\n",
    "for i in [1,2,3,4]:\n",
    "    y=y*i\n",
    "    z=z+i\n",
    "    \n",
    "print('y is ',y)\n",
    "print('z is ',z)"
   ]
  },
  {
   "cell_type": "code",
   "execution_count": 26,
   "metadata": {},
   "outputs": [
    {
     "name": "stdout",
     "output_type": "stream",
     "text": [
      "0\n",
      "1\n",
      "2\n",
      "3\n",
      "4\n",
      "5\n",
      "6\n",
      "7\n",
      "8\n",
      "9\n"
     ]
    }
   ],
   "source": [
    "'''\n",
    "note that range function sequences upto n\n",
    "range(0,n) generates sequence from 0,1,...n-1\n",
    "'''\n",
    "n=10\n",
    "for i in range(0,n):\n",
    "    print(i)"
   ]
  },
  {
   "cell_type": "code",
   "execution_count": 45,
   "metadata": {},
   "outputs": [],
   "source": [
    "'''\n",
    "Find all the factors of n\n",
    "'''\n",
    "def find_factors(n):\n",
    "    f_list = []\n",
    "    for i in range(1,n+1):\n",
    "        if n%i == 0:\n",
    "            f_list = f_list + [i]\n",
    "    return f_list"
   ]
  },
  {
   "cell_type": "code",
   "execution_count": 46,
   "metadata": {},
   "outputs": [
    {
     "name": "stderr",
     "output_type": "stream",
     "text": [
      "INFO:root:Remember '+' is a concatenation operator for both string and list\n"
     ]
    },
    {
     "data": {
      "text/plain": [
       "[1, 2, 5, 10]"
      ]
     },
     "execution_count": 46,
     "metadata": {},
     "output_type": "execute_result"
    }
   ],
   "source": [
    "logging.info(\"Remember '+' is a concatenation operator for both string and list\")\n",
    "find_factors(10)"
   ]
  },
  {
   "cell_type": "code",
   "execution_count": 47,
   "metadata": {},
   "outputs": [
    {
     "name": "stderr",
     "output_type": "stream",
     "text": [
      "INFO:root:Python interpreter runs the statements from top to bottom\n"
     ]
    }
   ],
   "source": [
    "logging.info('Python interpreter runs the statements from top to bottom')"
   ]
  }
 ],
 "metadata": {
  "kernelspec": {
   "display_name": "Python 3",
   "language": "python",
   "name": "python3"
  },
  "language_info": {
   "codemirror_mode": {
    "name": "ipython",
    "version": 3
   },
   "file_extension": ".py",
   "mimetype": "text/x-python",
   "name": "python",
   "nbconvert_exporter": "python",
   "pygments_lexer": "ipython3",
   "version": "3.6.5"
  }
 },
 "nbformat": 4,
 "nbformat_minor": 1
}
