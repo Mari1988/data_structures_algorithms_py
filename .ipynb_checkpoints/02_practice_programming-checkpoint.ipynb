{
 "cells": [
  {
   "cell_type": "code",
   "execution_count": 23,
   "metadata": {},
   "outputs": [],
   "source": [
    "def intreverse(n):\n",
    "    z=''\n",
    "    for k in reversed(str(n)):\n",
    "        z = z + k\n",
    "    return(int(z))"
   ]
  },
  {
   "cell_type": "code",
   "execution_count": 24,
   "metadata": {},
   "outputs": [
    {
     "data": {
      "text/plain": [
       "987242"
      ]
     },
     "execution_count": 24,
     "metadata": {},
     "output_type": "execute_result"
    }
   ],
   "source": [
    "intreverse(242789)"
   ]
  },
  {
   "cell_type": "code",
   "execution_count": 34,
   "metadata": {},
   "outputs": [],
   "source": [
    "def matched(s):\n",
    "    count=0\n",
    "    for i in s:\n",
    "        if i==\"(\":\n",
    "            count += 1;\n",
    "        elif i == \")\" and count !=0:\n",
    "            count -= 1;\n",
    "    if count == 0:\n",
    "        return(True)\n",
    "    else:\n",
    "        return(False)"
   ]
  },
  {
   "cell_type": "code",
   "execution_count": 35,
   "metadata": {},
   "outputs": [
    {
     "name": "stdout",
     "output_type": "stream",
     "text": [
      "True\n",
      "False\n",
      "False\n",
      "True\n"
     ]
    }
   ],
   "source": [
    "print(matched(\"zb%78\"))\n",
    "print(matched(\"(7)(a\"))\n",
    "print(matched(\"a)*(?\"))\n",
    "print(matched(\"((jkl)78(A)&l(8(dd(FJI:),):)?)\"))"
   ]
  },
  {
   "cell_type": "code",
   "execution_count": 38,
   "metadata": {},
   "outputs": [
    {
     "data": {
      "text/plain": [
       "10"
      ]
     },
     "execution_count": 38,
     "metadata": {},
     "output_type": "execute_result"
    }
   ],
   "source": [
    "l = [1,2,3,4]\n",
    "j=0\n",
    "for i in l:\n",
    "    j = j +i\n",
    "j"
   ]
  },
  {
   "cell_type": "code",
   "execution_count": 43,
   "metadata": {},
   "outputs": [],
   "source": [
    "def factors(n):\n",
    "    \n",
    "    f_list = []\n",
    "    for i in range(1,n+1):\n",
    "        if n % i == 0:\n",
    "            f_list = f_list + [i]\n",
    "    return(f_list)"
   ]
  },
  {
   "cell_type": "code",
   "execution_count": 49,
   "metadata": {},
   "outputs": [],
   "source": [
    "def isprime(z):\n",
    "    \n",
    "    f_list_z = factors(z)\n",
    "    if f_list_z == [1,z]:\n",
    "        return(z)\n",
    "    else:\n",
    "        return(0)"
   ]
  },
  {
   "cell_type": "code",
   "execution_count": 58,
   "metadata": {},
   "outputs": [],
   "source": [
    "def sumprimes(l):\n",
    "    \n",
    "    sum=0\n",
    "    isprime_l=[]\n",
    "    for j in l:\n",
    "        isprime_l = isprime_l + [isprime(j)]\n",
    "    for i in isprime_l:\n",
    "        sum = sum +i\n",
    "    return(sum)"
   ]
  },
  {
   "cell_type": "code",
   "execution_count": 59,
   "metadata": {},
   "outputs": [
    {
     "data": {
      "text/plain": [
       "19"
      ]
     },
     "execution_count": 59,
     "metadata": {},
     "output_type": "execute_result"
    }
   ],
   "source": [
    "sumprimes([3,3,1,13])"
   ]
  },
  {
   "cell_type": "code",
   "execution_count": 60,
   "metadata": {},
   "outputs": [
    {
     "data": {
      "text/plain": [
       "13"
      ]
     },
     "execution_count": 60,
     "metadata": {},
     "output_type": "execute_result"
    }
   ],
   "source": [
    "sumprimes([2,4,6,9,11])"
   ]
  },
  {
   "cell_type": "code",
   "execution_count": 61,
   "metadata": {},
   "outputs": [
    {
     "data": {
      "text/plain": [
       "0"
      ]
     },
     "execution_count": 61,
     "metadata": {},
     "output_type": "execute_result"
    }
   ],
   "source": [
    "sumprimes([-3,1,6])"
   ]
  }
 ],
 "metadata": {
  "kernelspec": {
   "display_name": "Python 3",
   "language": "python",
   "name": "python3"
  },
  "language_info": {
   "codemirror_mode": {
    "name": "ipython",
    "version": 3
   },
   "file_extension": ".py",
   "mimetype": "text/x-python",
   "name": "python",
   "nbconvert_exporter": "python",
   "pygments_lexer": "ipython3",
   "version": "3.6.5"
  }
 },
 "nbformat": 4,
 "nbformat_minor": 2
}
