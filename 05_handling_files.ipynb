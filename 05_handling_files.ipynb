{
 "cells": [
  {
   "cell_type": "markdown",
   "metadata": {},
   "source": [
    "## Reading data from files\n",
    "\n",
    "    * As we know, the files are stored in the disk\n",
    "    * Data is read/write in larger chunks/blocks from/to disk\n",
    "    * Generally, upon request, the chunk is brought into the buffer  (during read operation)"
   ]
  },
  {
   "cell_type": "markdown",
   "metadata": {},
   "source": [
    "<img src = \"disk_data.jpg\">"
   ]
  },
  {
   "cell_type": "markdown",
   "metadata": {},
   "source": [
    "### Process of reading & writing data from/to disk\n",
    "\n",
    "    1. Open the file\n",
    "    2. Create a 'file handle' to the file on disk  -->> This process sets up a buffer\n",
    "    3. Read/Write using file handle\n",
    "    4. Closing the file --> Flushes the buffer & disconnects the file handle"
   ]
  },
  {
   "cell_type": "markdown",
   "metadata": {},
   "source": [
    "### Creation of file handle and various file-handle-modes\n",
    "\n",
    "    * Mode 'r' opens a file for reading only\n",
    "    * Mode 'w' creates a new file for writing only\n",
    "    * Mode 'a' is for append to an existing file"
   ]
  },
  {
   "cell_type": "markdown",
   "metadata": {},
   "source": [
    "### Sample read operation"
   ]
  },
  {
   "cell_type": "code",
   "execution_count": 3,
   "metadata": {},
   "outputs": [
    {
     "name": "stdout",
     "output_type": "stream",
     "text": [
      "The quick brown\n",
      "fox\n",
      "jumps over the lazy\n",
      "dog."
     ]
    }
   ],
   "source": [
    "fh = open('./files/sample.txt','r')\n",
    "\n",
    "for l in fh.readlines():\n",
    "    \n",
    "    print(l,end=\"\") #otherwise, print will add an explicit newline character at the eol"
   ]
  },
  {
   "cell_type": "code",
   "execution_count": 4,
   "metadata": {},
   "outputs": [],
   "source": [
    "for l in fh.readlines(): #prints nothing because fh is already pointing to the end of file\n",
    "    print(l)"
   ]
  },
  {
   "cell_type": "code",
   "execution_count": 5,
   "metadata": {},
   "outputs": [],
   "source": [
    "fh.close()"
   ]
  },
  {
   "cell_type": "markdown",
   "metadata": {},
   "source": [
    "### Copy contents of a file into another"
   ]
  },
  {
   "cell_type": "code",
   "execution_count": 14,
   "metadata": {},
   "outputs": [],
   "source": [
    "f = open('./files/sample.txt','r')\n",
    "g = open('./files/output.txt','w')\n",
    "\n",
    "contents = f.readlines()\n",
    "g.writelines(contents)\n",
    "g.close()\n",
    "f.close()"
   ]
  },
  {
   "cell_type": "code",
   "execution_count": 9,
   "metadata": {},
   "outputs": [
    {
     "data": {
      "text/plain": [
       "list"
      ]
     },
     "execution_count": 9,
     "metadata": {},
     "output_type": "execute_result"
    }
   ],
   "source": [
    "contents.__class__"
   ]
  },
  {
   "cell_type": "code",
   "execution_count": 10,
   "metadata": {},
   "outputs": [
    {
     "data": {
      "text/plain": [
       "['The quick brown\\n', 'fox\\n', 'jumps over the lazy\\n', 'dog.']"
      ]
     },
     "execution_count": 10,
     "metadata": {},
     "output_type": "execute_result"
    }
   ],
   "source": [
    "contents"
   ]
  },
  {
   "cell_type": "code",
   "execution_count": 15,
   "metadata": {},
   "outputs": [],
   "source": [
    "#Another way\n",
    "f = open('./files/sample.txt','r')\n",
    "g = open('./files/output_method2.txt','w')\n",
    "\n",
    "for l in f.readlines():\n",
    "    g.write(l)\n",
    "\n",
    "#close the file-handles\n",
    "g.close()\n",
    "f.close()"
   ]
  }
 ],
 "metadata": {
  "kernelspec": {
   "display_name": "Python 3",
   "language": "python",
   "name": "python3"
  },
  "language_info": {
   "codemirror_mode": {
    "name": "ipython",
    "version": 3
   },
   "file_extension": ".py",
   "mimetype": "text/x-python",
   "name": "python",
   "nbconvert_exporter": "python",
   "pygments_lexer": "ipython3",
   "version": "3.6.5"
  }
 },
 "nbformat": 4,
 "nbformat_minor": 2
}
