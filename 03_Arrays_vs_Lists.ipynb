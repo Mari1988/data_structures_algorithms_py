{
 "cells": [
  {
   "cell_type": "markdown",
   "metadata": {},
   "source": [
    "### Arrays vs Lists"
   ]
  },
  {
   "cell_type": "markdown",
   "metadata": {},
   "source": [
    "### Arrays\n",
    "\n",
    "    * Arrays are stored in a single block of memory (contiguous fashion) , contains elements of uniform type\n",
    "    * Because of this architecture, accessing an 'i'th element is easy (done in constaint time O(1))\n",
    "        - As, knowing the memory address of 0th element can easily get us to i'th element by simple arithmatic operation on the address\n",
    "    * However, insertion and deletion will be expensive because elements has to be rearranged (expanded or contracted respectively)"
   ]
  },
  {
   "cell_type": "markdown",
   "metadata": {},
   "source": [
    "### Lists\n",
    "\n",
    "    * Lists are scattered in memory (not contiguous) -- In a linked-list fashion\n",
    "    * Because of this flexibility, searching is expensive (O(n))\n",
    "    * However, insertion and deletion is cheap"
   ]
  },
  {
   "cell_type": "markdown",
   "metadata": {},
   "source": [
    "### Operations\n",
    "\n",
    "    * Swapping of elements stored at 'i' and 'j' can be done in \n",
    "        - constant time in Array\n",
    "        - linear time in lists (because finding i'th and j'th elements itself takes linear time)"
   ]
  },
  {
   "cell_type": "code",
   "execution_count": null,
   "metadata": {},
   "outputs": [],
   "source": []
  }
 ],
 "metadata": {
  "kernelspec": {
   "display_name": "Python 3",
   "language": "python",
   "name": "python3"
  },
  "language_info": {
   "codemirror_mode": {
    "name": "ipython",
    "version": 3
   },
   "file_extension": ".py",
   "mimetype": "text/x-python",
   "name": "python",
   "nbconvert_exporter": "python",
   "pygments_lexer": "ipython3",
   "version": "3.6.5"
  }
 },
 "nbformat": 4,
 "nbformat_minor": 2
}
