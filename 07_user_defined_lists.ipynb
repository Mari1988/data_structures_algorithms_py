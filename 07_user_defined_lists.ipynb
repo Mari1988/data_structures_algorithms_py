{
 "cells": [
  {
   "cell_type": "markdown",
   "metadata": {},
   "source": [
    "## Objective of this notebook is to create a datatype (a list) using classes\n"
   ]
  },
  {
   "cell_type": "code",
   "execution_count": 47,
   "metadata": {},
   "outputs": [],
   "source": [
    "class Node:\n",
    "    \n",
    "    def __init__(self, v = None):\n",
    "        self.value = v\n",
    "        self.next = None\n",
    "        return\n",
    "    \n",
    "    def isempty(self):\n",
    "        return self.value == None\n",
    "    \n",
    "    def append(self, v):\n",
    "        if self.isempty():\n",
    "            self.value = v\n",
    "        elif self.next == None:\n",
    "            newnode = Node(v)\n",
    "            self.next = newnode\n",
    "        else:\n",
    "            self.next.append(v)\n",
    "        return\n",
    "    \n",
    "    def insert(self, v):\n",
    "        newnode = Node(v)\n",
    "        (self.value, newnode.value) = (newnode.value, self.value)\n",
    "        (self.next, newnode.next) = (newnode, self.next)\n",
    "        \n",
    "        return\n",
    "    \n",
    "    def delete(self,v):   # delete, recursive\n",
    "        if self.isempty():\n",
    "            return\n",
    "\n",
    "        if self.value == v:\n",
    "            self.value = None\n",
    "            if self.next != None:\n",
    "                self.value = self.next.value\n",
    "                self.next = self.next.next\n",
    "            return\n",
    "        else:\n",
    "            if self.next != None:\n",
    "                self.next.delete(v)\n",
    "                if self.next.value == None:\n",
    "                    self.next = None\n",
    "        return\n",
    "    \n",
    "    def sum(self):\n",
    "        if self.value == None:\n",
    "            return(0)\n",
    "        elif self.next == None:\n",
    "            return(self.value)\n",
    "        else:\n",
    "            return(self.value + self.next.sum())\n",
    "    \n",
    "    def __str__(self):\n",
    "        selflist = []\n",
    "        if self.value == None:\n",
    "            return(str(selflist))\n",
    "\n",
    "        temp = self\n",
    "        selflist.append(temp.value)\n",
    "        \n",
    "        while temp.next != None:\n",
    "            temp = temp.next\n",
    "            selflist.append(temp.value)\n",
    "\n",
    "        return(str(selflist))"
   ]
  },
  {
   "cell_type": "code",
   "execution_count": 61,
   "metadata": {},
   "outputs": [],
   "source": [
    "l = Node(0)"
   ]
  },
  {
   "cell_type": "code",
   "execution_count": 63,
   "metadata": {},
   "outputs": [
    {
     "name": "stdout",
     "output_type": "stream",
     "text": [
      "[0, 0, 1]\n"
     ]
    }
   ],
   "source": [
    "for i in range(2):\n",
    "    l.append(i)\n",
    "    \n",
    "print(l)"
   ]
  },
  {
   "cell_type": "code",
   "execution_count": 64,
   "metadata": {},
   "outputs": [
    {
     "data": {
      "text/plain": [
       "1"
      ]
     },
     "execution_count": 64,
     "metadata": {},
     "output_type": "execute_result"
    }
   ],
   "source": [
    "l.sum()"
   ]
  },
  {
   "cell_type": "code",
   "execution_count": null,
   "metadata": {},
   "outputs": [],
   "source": []
  }
 ],
 "metadata": {
  "kernelspec": {
   "display_name": "Python 3",
   "language": "python",
   "name": "python3"
  },
  "language_info": {
   "codemirror_mode": {
    "name": "ipython",
    "version": 3
   },
   "file_extension": ".py",
   "mimetype": "text/x-python",
   "name": "python",
   "nbconvert_exporter": "python",
   "pygments_lexer": "ipython3",
   "version": "3.6.5"
  }
 },
 "nbformat": 4,
 "nbformat_minor": 2
}
