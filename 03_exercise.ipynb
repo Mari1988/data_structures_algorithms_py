{
 "cells": [
  {
   "cell_type": "code",
   "execution_count": 8,
   "metadata": {},
   "outputs": [],
   "source": [
    "def matrixflip(myl,d):\n",
    "  \n",
    "    l = []\n",
    "    \n",
    "    if d=='h':\n",
    "        #horizontal flip\n",
    "        for i in range(0,len(myl)):\n",
    "            for j in range(len(myl[0])-1,-1,-1):\n",
    "                l.append(myl[i][j])\n",
    "    elif d=='v':\n",
    "        #vertical flip\n",
    "        for i in range(len(myl)-1,-1,-1):\n",
    "            for j in range(0,len(myl[0])):\n",
    "                l.append(myl[i][j])\n",
    "    else:\n",
    "        l = myl\n",
    "\n",
    "    out_l = len(myl)*[0]\n",
    "    nc = int(len(l)/len(myl))\n",
    "    s1=0\n",
    "    s2=nc\n",
    "    for i in range(0,len(myl)):\n",
    "        out_l[i] = l[s1:s2]\n",
    "        s1 = s1+nc\n",
    "        s2 = s2 + nc\n",
    "    \n",
    "    return out_l"
   ]
  },
  {
   "cell_type": "code",
   "execution_count": 9,
   "metadata": {},
   "outputs": [
    {
     "name": "stdout",
     "output_type": "stream",
     "text": [
      "[[7, 8, 9], [4, 5, 6], [1, 2, 3]]\n",
      "[[1, 2, 3], [4, 5, 6], [7, 8, 9]]\n"
     ]
    }
   ],
   "source": [
    "myl = [[1,2,3],[4,5,6],[7,8,9]]\n",
    "print(matrixflip(myl,'v'))\n",
    "print(myl)"
   ]
  },
  {
   "cell_type": "code",
   "execution_count": null,
   "metadata": {},
   "outputs": [],
   "source": [
    "def primesquare(l):\n",
    "    import math\n",
    "    def square(n):\n",
    "        i = int(math.sqrt(n))\n",
    "        if n == i*i:\n",
    "            return(True)\n",
    "        else:\n",
    "            return(False)\n",
    "    def factor(n):\n",
    "        factorlist = []\n",
    "        for i in range(1,n+1):\n",
    "            if n%i == 0:\n",
    "                factorlist = factorlist + [i]\n",
    "        return(factorlist)\n",
    "    def isprime(n):\n",
    "        return(factor(n) == [1,n])\n",
    "    if len(l) <= 0:\n",
    "        return(False)\n",
    "    elif len(l) == 1:\n",
    "        num = l[0]\n",
    "        if square(num) == True:\n",
    "            return(True)\n",
    "        elif isprime(num) == True:\n",
    "            return(True)\n",
    "        else:\n",
    "            return(False)\n",
    "    else:\n",
    "        num = l[0]\n",
    "        if square(num) == True:\n",
    "            for j in range(1,len(l)):\n",
    "                num1 = l[j]\n",
    "                if j%2 !=0:\n",
    "                    if isprime(num1) == True:\n",
    "                        ans = 1\n",
    "                        #print(ans)\n",
    "                    else:\n",
    "                        return(False)\n",
    "                if j%2 == 0:\n",
    "                    if square(num1) == True:\n",
    "                        ans = 1\n",
    "                        #print(ans)\n",
    "                    else:\n",
    "                        return(False)\n",
    "        elif isprime(num) == True:\n",
    "            for j in range(1,len(l)):\n",
    "                num1 = l[j]\n",
    "                if j%2 !=0:\n",
    "                    if square(num1) == True:\n",
    "                        ans = 1\n",
    "                        #print(ans)\n",
    "                    else:\n",
    "                        return(False)\n",
    "                if j%2 == 0:\n",
    "                    if isprime(num1) == True:\n",
    "                        ans = 1\n",
    "                        #print(ans)\n",
    "                    else:\n",
    "                        return(False)\n",
    "        else:\n",
    "            return(False)                       \n",
    "    if ans == 1:\n",
    "        return(True)\n",
    "    else:\n",
    "        return(False)\n",
    "#Arithmetic progression  \n",
    "def progression(l):\n",
    "    if len(l) == 1:\n",
    "        return(True)\n",
    "    else:\n",
    "        d = l[1] - l[0]\n",
    "        for i in range(len(l)-1):\n",
    "            if not (l[i+1] - l[i] == d):\n",
    "                return(False)\n",
    "        return(True)"
   ]
  },
  {
   "cell_type": "code",
   "execution_count": 3,
   "metadata": {},
   "outputs": [
    {
     "data": {
      "text/plain": [
       "-4"
      ]
     },
     "execution_count": 3,
     "metadata": {},
     "output_type": "execute_result"
    }
   ],
   "source": [
    "l = [7,3,-1,-5]\n",
    "l[1]-l[0]"
   ]
  }
 ],
 "metadata": {
  "kernelspec": {
   "display_name": "Python 3",
   "language": "python",
   "name": "python3"
  },
  "language_info": {
   "codemirror_mode": {
    "name": "ipython",
    "version": 3
   },
   "file_extension": ".py",
   "mimetype": "text/x-python",
   "name": "python",
   "nbconvert_exporter": "python",
   "pygments_lexer": "ipython3",
   "version": "3.6.5"
  }
 },
 "nbformat": 4,
 "nbformat_minor": 2
}
